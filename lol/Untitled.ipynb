{
 "cells": [
  {
   "cell_type": "code",
   "execution_count": 22,
   "id": "1a8aaf23-547a-4b8c-a06c-e7c7d281e957",
   "metadata": {},
   "outputs": [
    {
     "name": "stdout",
     "output_type": "stream",
     "text": [
      "400 0\n",
      "402 1\n",
      "68 1\n",
      "124 2\n",
      "407 0\n",
      "276 2\n",
      "148 1\n",
      "157 1\n",
      "85 1\n",
      "62 1\n",
      "264 1\n",
      "192 0\n",
      "414 1\n",
      "182 1\n",
      "142 1\n",
      "415 2\n",
      "128 2\n",
      "430 0\n",
      "124 2\n",
      "335 0\n",
      "133 1\n",
      "129 1\n",
      "456 1\n",
      "200 1\n",
      "120 0\n",
      "413 1\n",
      "137 2\n",
      "172 1\n",
      "380 2\n",
      "221 0\n",
      "[[[255 255 255]\n",
      "  [255 255 255]\n",
      "  [255 255 255]\n",
      "  ...\n",
      "  [255 255 255]\n",
      "  [255 255 255]\n",
      "  [255 255 255]]\n",
      "\n",
      " [[255 255 255]\n",
      "  [255 255 255]\n",
      "  [255 255 255]\n",
      "  ...\n",
      "  [255 255 255]\n",
      "  [255 255 255]\n",
      "  [255 255 255]]\n",
      "\n",
      " [[255 255 255]\n",
      "  [255 255 255]\n",
      "  [255 255 255]\n",
      "  ...\n",
      "  [255 255 255]\n",
      "  [255 255 255]\n",
      "  [255 255 255]]\n",
      "\n",
      " ...\n",
      "\n",
      " [[255 255 255]\n",
      "  [255 255 255]\n",
      "  [255 255 255]\n",
      "  ...\n",
      "  [255 255 255]\n",
      "  [255 255 255]\n",
      "  [255 255 255]]\n",
      "\n",
      " [[255 255 255]\n",
      "  [255 255 255]\n",
      "  [255 255 255]\n",
      "  ...\n",
      "  [255 255 255]\n",
      "  [255 255 255]\n",
      "  [255 255 255]]\n",
      "\n",
      " [[255 255 255]\n",
      "  [255 255 255]\n",
      "  [255 255 255]\n",
      "  ...\n",
      "  [255 255 255]\n",
      "  [255 255 255]\n",
      "  [255 255 255]]]\n"
     ]
    }
   ],
   "source": [
    "import cv2\n",
    "import numpy as np\n",
    "import random \n",
    "img=np.zeros([512,512,3],dtype=np.uint8)\n",
    "img.fill(255)\n",
    "flag=\"pantheon{r3sP3ct_p0w3r_B4nAna}\"\n",
    "for i in range(0,len(flag)):\n",
    "    c=flag[i]\n",
    "    pn=random.randrange(0, 512)\n",
    "    color=random.randrange(0, 3)\n",
    "    print(pn,color)\n",
    "    img[i*10+200][pn][color]=ord(c)\n",
    "    \n",
    "cv2.imshow(\"IMG\",img)\n",
    "cv2.waitKey(0)\n",
    "cv2.destroyAllWindows()\n",
    "cv2.imwrite(\"White.png\",img)\n",
    "print(img)"
   ]
  },
  {
   "cell_type": "code",
   "execution_count": 25,
   "id": "531029c4-3814-4d57-a5b3-a85cdc6ad94e",
   "metadata": {},
   "outputs": [
    {
     "name": "stdout",
     "output_type": "stream",
     "text": [
      "[255 255 255]\n",
      "pantheon{r3sP3ct_p0w3r_B4nAna}\n"
     ]
    }
   ],
   "source": [
    "img1=cv2.imread(\"White.png\")\n",
    "print(img1[0][0])\n",
    "\n",
    "# print('Array:\\n', Array)\n",
    "file = open(\"file1.txt\", \"w+\")\n",
    " \n",
    "# Saving the array in a text file\n",
    "content = \"\"\n",
    "\n",
    "for i in img1:\n",
    "    for r in i:\n",
    "        content+='['\n",
    "        for j in r:\n",
    "            content+=str(j)\n",
    "            content+=' '\n",
    "        content+=']'\n",
    "    content+='\\n'\n",
    "ans=\"\"\n",
    "for i in img1:\n",
    "    for r in i:\n",
    "        for j in r:\n",
    "            if j != 255:\n",
    "                ans+=chr(j)\n",
    "print(ans)\n",
    "file.write(content)\n",
    "file.close()"
   ]
  },
  {
   "cell_type": "code",
   "execution_count": null,
   "id": "f3f86b9b",
   "metadata": {},
   "outputs": [],
   "source": []
  }
 ],
 "metadata": {
  "kernelspec": {
   "display_name": "Python 3 (ipykernel)",
   "language": "python",
   "name": "python3"
  },
  "language_info": {
   "codemirror_mode": {
    "name": "ipython",
    "version": 3
   },
   "file_extension": ".py",
   "mimetype": "text/x-python",
   "name": "python",
   "nbconvert_exporter": "python",
   "pygments_lexer": "ipython3",
   "version": "3.9.7"
  },
  "vscode": {
   "interpreter": {
    "hash": "35c754d8008c5f8560e4adf341ebf96f62d30db323e3ac43f60a1cb4dab6d757"
   }
  }
 },
 "nbformat": 4,
 "nbformat_minor": 5
}
